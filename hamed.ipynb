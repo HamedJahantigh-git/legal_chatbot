{
 "cells": [
  {
   "cell_type": "code",
   "execution_count": 31,
   "metadata": {},
   "outputs": [],
   "source": [
    "from model.feature_extraction.law_extractor import *\n",
    "\n",
    "text = \"هیئت وزیران در جلسه ۱۱/۲/۱۴۰۱ به پیشنهاد مشترک سازمان‌های برنامه و بودجه کشور و اداری و استخدامی کشور و به استناد اصل یکصد و سی و هشتم قانون اساسی جمهوری اسلامی ایران، ماده (۷۶) قانون مدیریت خدمات کشوری -مصوب ۱۳۸۶- و بند (پ) ماده (۲۸) قانون برنامه ششم توسعه اقتصادی، اجتماعی و فرهنگی جمهوری اسلامی ایران -مصوب ۱۳۹۵- و جزءهای (۱)، (۲)، (۴)، (۶)، (۸) و (۱۲) بند (الف) و بند (و) تبصره (۱۲) و بند (ی) تبصره (۱۹) ماده واحده قانون بودجه سال ۱۴۰۱ کل کشور تصویب کرد\"\n",
    "law_extractor = LawExtractor()\n",
    "r = law_extractor.extract(text)\n"
   ]
  },
  {
   "cell_type": "code",
   "execution_count": 32,
   "metadata": {},
   "outputs": [
    {
     "data": {
      "text/plain": [
       "[('قانون اساسی جمهوری اسلامی ایران', 135, 166),\n",
       " ('قانون مدیریت خدمات کشوری -مصوب ۱۳۸۶', 178, 213),\n",
       " ('قانون برنامه ششم توسعه اقتصادی ، اجتماعی و فرهنگی', 235, 283),\n",
       " ('قانون بودجه سال ۱۴۰۱ کل کشور', 419, 447)]"
      ]
     },
     "execution_count": 32,
     "metadata": {},
     "output_type": "execute_result"
    }
   ],
   "source": [
    "r"
   ]
  }
 ],
 "metadata": {
  "kernelspec": {
   "display_name": ".venv",
   "language": "python",
   "name": "python3"
  },
  "language_info": {
   "codemirror_mode": {
    "name": "ipython",
    "version": 3
   },
   "file_extension": ".py",
   "mimetype": "text/x-python",
   "name": "python",
   "nbconvert_exporter": "python",
   "pygments_lexer": "ipython3",
   "version": "3.10.12"
  }
 },
 "nbformat": 4,
 "nbformat_minor": 2
}

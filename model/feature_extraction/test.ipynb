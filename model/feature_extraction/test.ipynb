{
 "cells": [
  {
   "cell_type": "code",
   "execution_count": 1,
   "metadata": {},
   "outputs": [],
   "source": [
    "from feature_extractor import FeatureExtrator"
   ]
  },
  {
   "cell_type": "code",
   "execution_count": 2,
   "metadata": {},
   "outputs": [],
   "source": [
    "extraxtor = FeatureExtrator()"
   ]
  },
  {
   "cell_type": "code",
   "execution_count": 6,
   "metadata": {},
   "outputs": [
    {
     "ename": "AttributeError",
     "evalue": "'tuple' object has no attribute 'find'",
     "output_type": "error",
     "traceback": [
      "\u001b[0;31m---------------------------------------------------------------------------\u001b[0m",
      "\u001b[0;31mAttributeError\u001b[0m                            Traceback (most recent call last)",
      "Cell \u001b[0;32mIn[6], line 3\u001b[0m\n\u001b[1;32m      1\u001b[0m test \u001b[38;5;241m=\u001b[39m \u001b[38;5;124m\"\u001b[39m\u001b[38;5;124mبه گزارش شناسنامه قانون، در فضای مجازی مطالبی مبنی بر عدم ابلاغ بخشنامه مشترک سازمان اداری و استخدامی کشور و سازمان برنامه و بودجه کشور در خصوص دستورالعمل بند «و» تبصره (۲۰) قانون بودجه سال ۱۴۰۱ کل کشور موضوع: تبدیل وضعیت ایثارگران در سال ۱۴۰۱ و احیاناً بی‌اطلاعی کارگزینان محترم برخی از دستگاه‌های اجرایی آورده شده است. عطف به نامه شماره ۱۱۰۳۷۶ مورخ ۳۱/۹/۱۴۰۰ در اجرای اصل یکصد و بیست و سوم (۱۲۳) قانون اساسی جمهوری اسلامی ایران قانون بودجه سال ۱۴۰۱ کل کشور که با عنوان لایحه به مجلس شورای اسلامی تقدیم شده بود، با تصویب در جلسه علنی روز چهارشنبه مورخ ۲۵/۱۲/۱۴۰۰ و تأیید شورای محترم نگهبان به پیوست ابلاغ می‌شود.\u001b[39m\u001b[38;5;124m\"\u001b[39m\n\u001b[1;32m      2\u001b[0m \u001b[38;5;66;03m# test = \"سلام\"\u001b[39;00m\n\u001b[0;32m----> 3\u001b[0m \u001b[43mextraxtor\u001b[49m\u001b[38;5;241;43m.\u001b[39;49m\u001b[43mextract\u001b[49m\u001b[43m(\u001b[49m\u001b[43mtest\u001b[49m\u001b[43m)\u001b[49m\n",
      "File \u001b[0;32m~/University/Course/NLP/legal_chatbot/model/feature_extraction/feature_extractor.py:113\u001b[0m, in \u001b[0;36mFeatureExtrator.extract\u001b[0;34m(self, input)\u001b[0m\n\u001b[1;32m    108\u001b[0m     orgext \u001b[38;5;241m=\u001b[39m org_extractor(sentence)\n\u001b[1;32m    109\u001b[0m     orgs_phrase \u001b[38;5;241m=\u001b[39m orgext\u001b[38;5;241m.\u001b[39mfind_org()\n\u001b[1;32m    110\u001b[0m     result\u001b[38;5;241m.\u001b[39mappend({\n\u001b[1;32m    111\u001b[0m         \u001b[38;5;124m\"\u001b[39m\u001b[38;5;124mArticle\u001b[39m\u001b[38;5;124m\"\u001b[39m: \u001b[38;5;28mself\u001b[39m\u001b[38;5;241m.\u001b[39m_get_span(sentence, article_phrase, span_bias),\n\u001b[1;32m    112\u001b[0m         \u001b[38;5;124m\"\u001b[39m\u001b[38;5;124mLaw\u001b[39m\u001b[38;5;124m\"\u001b[39m: \u001b[38;5;28mself\u001b[39m\u001b[38;5;241m.\u001b[39m_get_span(sentence, law_phrase, span_bias),\n\u001b[0;32m--> 113\u001b[0m         \u001b[38;5;124m\"\u001b[39m\u001b[38;5;124mOrganization\u001b[39m\u001b[38;5;124m\"\u001b[39m: \u001b[38;5;28;43mself\u001b[39;49m\u001b[38;5;241;43m.\u001b[39;49m\u001b[43m_get_span\u001b[49m\u001b[43m(\u001b[49m\u001b[43msentence\u001b[49m\u001b[43m,\u001b[49m\u001b[43m \u001b[49m\u001b[43morgs_phrase\u001b[49m\u001b[43m,\u001b[49m\u001b[43m \u001b[49m\u001b[43mspan_bias\u001b[49m\u001b[43m)\u001b[49m,\n\u001b[1;32m    114\u001b[0m         \u001b[38;5;124m\"\u001b[39m\u001b[38;5;124mDate\u001b[39m\u001b[38;5;124m\"\u001b[39m: \u001b[38;5;28mself\u001b[39m\u001b[38;5;241m.\u001b[39m_get_span(sentence, dates_phrase, span_bias)\n\u001b[1;32m    115\u001b[0m     })\n\u001b[1;32m    116\u001b[0m     span_bias \u001b[38;5;241m+\u001b[39m\u001b[38;5;241m=\u001b[39m \u001b[38;5;28mlen\u001b[39m(sentence)\n\u001b[1;32m    117\u001b[0m \u001b[38;5;28;01mreturn\u001b[39;00m result\n",
      "File \u001b[0;32m~/University/Course/NLP/legal_chatbot/model/feature_extraction/feature_extractor.py:126\u001b[0m, in \u001b[0;36mFeatureExtrator._get_span\u001b[0;34m(self, input, phrases, bias)\u001b[0m\n\u001b[1;32m    124\u001b[0m result \u001b[38;5;241m=\u001b[39m []\n\u001b[1;32m    125\u001b[0m \u001b[38;5;28;01mfor\u001b[39;00m phrase \u001b[38;5;129;01min\u001b[39;00m phrases:\n\u001b[0;32m--> 126\u001b[0m     start_search_text \u001b[38;5;241m=\u001b[39m phrase[:\u001b[43mphrase\u001b[49m\u001b[38;5;241;43m.\u001b[39;49m\u001b[43mfind\u001b[49m(\u001b[38;5;124m\"\u001b[39m\u001b[38;5;124m \u001b[39m\u001b[38;5;124m\"\u001b[39m)]\n\u001b[1;32m    127\u001b[0m     start_index \u001b[38;5;241m=\u001b[39m \u001b[38;5;28minput\u001b[39m\u001b[38;5;241m.\u001b[39mfind(start_search_text, index)\n\u001b[1;32m    128\u001b[0m     end_search_text \u001b[38;5;241m=\u001b[39m phrase[phrase\u001b[38;5;241m.\u001b[39mrfind(\u001b[38;5;124m\"\u001b[39m\u001b[38;5;124m \u001b[39m\u001b[38;5;124m\"\u001b[39m):]\n",
      "\u001b[0;31mAttributeError\u001b[0m: 'tuple' object has no attribute 'find'"
     ]
    }
   ],
   "source": [
    "test = \"به گزارش شناسنامه قانون، در فضای مجازی مطالبی مبنی بر عدم ابلاغ بخشنامه مشترک سازمان اداری و استخدامی کشور و سازمان برنامه و بودجه کشور در خصوص دستورالعمل بند «و» تبصره (۲۰) قانون بودجه سال ۱۴۰۱ کل کشور موضوع: تبدیل وضعیت ایثارگران در سال ۱۴۰۱ و احیاناً بی‌اطلاعی کارگزینان محترم برخی از دستگاه‌های اجرایی آورده شده است. عطف به نامه شماره ۱۱۰۳۷۶ مورخ ۳۱/۹/۱۴۰۰ در اجرای اصل یکصد و بیست و سوم (۱۲۳) قانون اساسی جمهوری اسلامی ایران قانون بودجه سال ۱۴۰۱ کل کشور که با عنوان لایحه به مجلس شورای اسلامی تقدیم شده بود، با تصویب در جلسه علنی روز چهارشنبه مورخ ۲۵/۱۲/۱۴۰۰ و تأیید شورای محترم نگهبان به پیوست ابلاغ می‌شود.\"\n",
    "# test = \"سلام\"\n",
    "extraxtor.extract(test)"
   ]
  }
 ],
 "metadata": {
  "kernelspec": {
   "display_name": ".venv",
   "language": "python",
   "name": "python3"
  },
  "language_info": {
   "codemirror_mode": {
    "name": "ipython",
    "version": 3
   },
   "file_extension": ".py",
   "mimetype": "text/x-python",
   "name": "python",
   "nbconvert_exporter": "python",
   "pygments_lexer": "ipython3",
   "version": "3.10.12"
  }
 },
 "nbformat": 4,
 "nbformat_minor": 2
}

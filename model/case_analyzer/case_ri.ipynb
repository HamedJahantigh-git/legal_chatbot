{
 "cells": [
  {
   "cell_type": "code",
   "execution_count": 32,
   "metadata": {},
   "outputs": [],
   "source": [
    "import pandas as pd\n",
    "import codecs\n",
    "from hazm import *\n",
    "from case_retrieval import BM25Retrival\n"
   ]
  },
  {
   "cell_type": "code",
   "execution_count": 27,
   "metadata": {},
   "outputs": [],
   "source": [
    "import numpy as np\n",
    "similarity = np.load(\"../../resource/case/case_similarity.npy\")"
   ]
  },
  {
   "cell_type": "code",
   "execution_count": 82,
   "metadata": {},
   "outputs": [],
   "source": [
    "import pandas as pd\n",
    "case_df = pd.read_csv(\"../../resource/case/case.csv\", encoding=\"utf-8\")\n",
    "ri_model = BM25Retrival(case_df.text[1000:1500], [], word_tokenize)"
   ]
  },
  {
   "cell_type": "code",
   "execution_count": 101,
   "metadata": {},
   "outputs": [],
   "source": [
    "from nltk.translate.bleu_score import corpus_bleu\n",
    "import itertools, warnings\n",
    "def bleu_similarity(docs):\n",
    "    warnings.filterwarnings(\"ignore\")\n",
    "    score= np.zeros((len(docs),len(docs)))\n",
    "    for i in tqdm(range(len(docs))):\n",
    "        for j in range(len(docs)):\n",
    "            candidate = word_tokenize(docs[i])\n",
    "            reference = [word_tokenize(docs[j])]\n",
    "            score[i,j] = corpus_bleu([reference],[candidate],weights=[1,1,0,0])\n",
    "    return score"
   ]
  },
  {
   "cell_type": "code",
   "execution_count": 102,
   "metadata": {},
   "outputs": [
    {
     "name": "stderr",
     "output_type": "stream",
     "text": [
      "100%|██████████| 500/500 [35:14<00:00,  4.23s/it]\n"
     ]
    }
   ],
   "source": [
    "belu_score = bleu_similarity(case_df.text[1000:1500].tolist())"
   ]
  },
  {
   "cell_type": "code",
   "execution_count": 110,
   "metadata": {},
   "outputs": [
    {
     "name": "stderr",
     "output_type": "stream",
     "text": [
      "100%|██████████| 500/500 [02:42<00:00,  3.08it/s]\n"
     ]
    }
   ],
   "source": [
    "from tqdm import tqdm\n",
    "sorted_indices = np.argsort(-similarity)\n",
    "sorted_similarity=sorted_indices[:,1:11]\n",
    "bleu_indices = np.argsort(-belu_score)\n",
    "bleu_similarity=bleu_indices[:,1:11]\n",
    "accept_item = []\n",
    "for i in tqdm(range(500)):\n",
    "    # llm_result = sorted_similarity[i,:].tolist()\n",
    "    bm25_result = bleu_similarity[i,:].tolist()\n",
    "    bm25_sim = ri_model.get_similar(case_df.text[i+1000])[1:11]\n",
    "    llm_result = [item['corpus_id'] for item in bm25_sim ]\n",
    "    if any(item in bm25_result for item in llm_result):\n",
    "        accept_item.append(i)"
   ]
  },
  {
   "cell_type": "code",
   "execution_count": 111,
   "metadata": {},
   "outputs": [
    {
     "name": "stdout",
     "output_type": "stream",
     "text": [
      "475\n"
     ]
    }
   ],
   "source": [
    "print(len(accept_item))"
   ]
  },
  {
   "cell_type": "code",
   "execution_count": 60,
   "metadata": {},
   "outputs": [
    {
     "name": "stdout",
     "output_type": "stream",
     "text": [
      "True\n"
     ]
    }
   ],
   "source": [
    "list1 = [1, 2, 3, 4, 5]\n",
    "list2 = [4, 5, 6, 7, 8]\n",
    "\n",
    "result = any(item in list2 for item in list1)\n",
    "print(result)  # Output will be True\n"
   ]
  },
  {
   "cell_type": "code",
   "execution_count": 52,
   "metadata": {},
   "outputs": [
    {
     "data": {
      "text/plain": [
       "3"
      ]
     },
     "execution_count": 52,
     "metadata": {},
     "output_type": "execute_result"
    }
   ],
   "source": [
    "ri_model.get_similar(case_df.text[1000])[1:6][0][\"corpus_id\"]"
   ]
  },
  {
   "cell_type": "code",
   "execution_count": 14,
   "metadata": {},
   "outputs": [],
   "source": [
    "case_df.to_csv(\"../../resource/case/case.csv\", encoding=\"utf-8\", index=False)"
   ]
  },
  {
   "cell_type": "code",
   "execution_count": 21,
   "metadata": {},
   "outputs": [],
   "source": [
    "case_list = case_df.text.tolist()[1000:1500]\n",
    "case_text = '<#>'.join(case_list)\n"
   ]
  },
  {
   "cell_type": "code",
   "execution_count": 23,
   "metadata": {},
   "outputs": [],
   "source": [
    "with open(\"../../resource/case/case.txt\", 'w', encoding=\"utf-8\") as file:\n",
    "    file.write(case_text)"
   ]
  },
  {
   "cell_type": "code",
   "execution_count": 24,
   "metadata": {},
   "outputs": [],
   "source": [
    "case_list = case_text.split(\"<#>\")"
   ]
  },
  {
   "cell_type": "code",
   "execution_count": 25,
   "metadata": {},
   "outputs": [
    {
     "data": {
      "text/plain": [
       "500"
      ]
     },
     "execution_count": 25,
     "metadata": {},
     "output_type": "execute_result"
    }
   ],
   "source": [
    "len(case_list)"
   ]
  },
  {
   "cell_type": "code",
   "execution_count": 81,
   "metadata": {},
   "outputs": [],
   "source": [
    "h_normalizer = Normalizer()\n",
    "stopwords = [h_normalizer.normalize(x.strip()) \n",
    "             for x in codecs.open(\"../../config/case_stopwords.txt\",'r','utf-8').readlines()]"
   ]
  },
  {
   "cell_type": "code",
   "execution_count": 14,
   "metadata": {},
   "outputs": [],
   "source": [
    "case_df = pd.read_csv(\"../../resource/case/case.csv\")\n",
    "nonstop_case = []\n",
    "for text_tok in case_df.text :   \n",
    "    nonstop_case.append(' '.join([tok for tok in word_tokenize(text_tok) if tok not in stopwords]))\n"
   ]
  },
  {
   "cell_type": "code",
   "execution_count": 15,
   "metadata": {},
   "outputs": [],
   "source": [
    "nonstop_case_df = pd.DataFrame({\"nonstop_text\": nonstop_case})\n",
    "nonstop_case_df.to_csv(\"../../resource/case/nonstop_case.csv\")"
   ]
  },
  {
   "cell_type": "code",
   "execution_count": 16,
   "metadata": {},
   "outputs": [
    {
     "data": {
      "text/plain": [
       "'رأی شعبه بدوی دیوان عدالت اداری شکایت خانم م م ب طرفیت سازمان تأمین اجتماعی خواسته فوق\\u200cالذکر [ لزام اصلاح میزان سختی کار ونوبت کاری افزایش ضریب ریالی دولت ۸۷ ۱ ۱ وپرداخت کلیه معوقات بشرح متن دادخواست ] وفق مواد ۹ ۱۴ اساسنامه سازمان تأمین اجتماعی بررسی اتخاذ تصمیم برنامه بودجه صورتهای مالی سازمان شورا هیأت مدیره عنایت دفاعیات شکایت فوق\\u200cالعاده\\u200cهای خواسته الزاما مبتنی امتیازدهی عملکرد بدوا امتیازدهی تصویب مراجع ذیصلاح قرار زمانیکه ضوابط اجرایی مصوب طریق مراجع ذیصلاح قانونی تصویب ابلاغ قرار نگیرد محاسبه پرداخت میسور نمی\\u200cباشد شکایت نحو مطروحه قابلیت استماع نداشته مستندا ماده ۵۳ قانون تشکیلات آئین دادرسی دیوان عدالت اداری رأی رد صادر اعلام می\\u200cنماید رأی ظرف ۲۰ روز تاریخ ابلاغ تجدید شعب تجدید دیوان عدالت اداری دادرس شعبه ۲۱ دیوان عدالت اداری بهرامی رأی شعبه تجدیدنظر دیوان عدالت اداری مداقه اوراق محتوای پرونده این\\u200cکه دادنامه صادره شعبه بدوی دیوان رعایت تشریفات قانونی اصدار دلیل قانونی نقض نداشته ناحیه تجدید نظرخواه ایرادی مخدوش رأی معترض عنه ابراز شعبه نهم تجدید دیوان گرفتن مراتب البیان استناد ماده ۷۱ قانون تشکیلات آئین دادرسی دیوان عدالت اداری مصوب ۱۳۹۲ رد تجدید نظرخواهی دادنامه شعبه بدوی تأیید ابرام رأی صادره قطعی رییس شعبه نهم تجدید دیوان عدالت اداری مستشار شعبه تقوی خضرایی'"
      ]
     },
     "execution_count": 16,
     "metadata": {},
     "output_type": "execute_result"
    }
   ],
   "source": [
    "nonstop_case_df.loc[0,\"nonstop_text\"]"
   ]
  },
  {
   "cell_type": "code",
   "execution_count": 34,
   "metadata": {},
   "outputs": [],
   "source": [
    "case_df = pd.read_csv(\"../../resource/case/case.csv\")\n",
    "titles = case_df.title.tolist()\n",
    "textes = case_df.text.tolist()\n",
    "title_score = 3\n",
    "docs = [] \n",
    "def make_scored_text(title, text):\n",
    "    return (title+\" \")*title_score+text\n",
    "for i in range(len(titles)):\n",
    "    docs.append(make_scored_text(titles[i], textes[i]))\n"
   ]
  },
  {
   "cell_type": "code",
   "execution_count": 35,
   "metadata": {},
   "outputs": [],
   "source": [
    "ri_model = BM25Retrival(docs, stopwords, word_tokenize)\n"
   ]
  },
  {
   "cell_type": "code",
   "execution_count": 36,
   "metadata": {},
   "outputs": [],
   "source": [
    "output = ri_model.get_similar(make_scored_text(titles[1001], textes[1001]))"
   ]
  },
  {
   "cell_type": "code",
   "execution_count": 37,
   "metadata": {},
   "outputs": [
    {
     "name": "stdout",
     "output_type": "stream",
     "text": [
      "[{'corpus_id': 1001, 'score': 2030.7953045182965}, {'corpus_id': 911, 'score': 805.9209061733029}, {'corpus_id': 1003, 'score': 746.9617677581366}, {'corpus_id': 1011, 'score': 701.0897668789672}, {'corpus_id': 692, 'score': 679.9349744644379}, {'corpus_id': 1047, 'score': 679.3680199407789}, {'corpus_id': 1064, 'score': 666.5626519559177}, {'corpus_id': 1000, 'score': 665.7411360789133}, {'corpus_id': 449, 'score': 658.3831272863246}, {'corpus_id': 842, 'score': 656.6665378366768}]\n"
     ]
    }
   ],
   "source": [
    "print(output[:10])"
   ]
  },
  {
   "cell_type": "code",
   "execution_count": 30,
   "metadata": {},
   "outputs": [
    {
     "name": "stdout",
     "output_type": "stream",
     "text": [
      "\n",
      ". رأی دادگاه بدوی. در خصوص دعوی آقای م. الف. فرزند م. با وکالت آقای ش. ق. بطرفیت ۱ -شرکت توزیع نیروی برق تهران بزرگ ۲ - شرکت توزیع نیروی برق شمال شرق تهران ۳ - شرکت مادر تخصصی تولید و انتقال و توزیع نیروی برق ایران (توانیر) به خواسته الزام خواندگان به پرداخت قیمت کارشناسی روز یک قطعه زمین از پلاک ثبتی … واقع در بخش ۱۱ تهران به انضمام خسارات دادرسی، بدین شرح که خواهان مالک شش‌دانگ یک قطعه زمین به مساحت ۱۶۰۰ متر مربع به پلاک ثبتی فوق‌الذکر واقع در تهران … می‌باشد که حدود ۴۸ متر مربع از ملک فوق توسط خواندگان تصرف و در آن احداث پست برق صورت گرفته است ولی خواندگان علیرغم درخواست خواهان نسبت به پرداخت بهای ملک مورد تصرف اقدام ننموده‌اند لذا خواهان تقاضای صدور حکم به شرح خواسته را نموده است. همچنین دادخواست دیگری تحت عنوان تقابل توسط شرکت توزیع نیروی برق تهران بزرگ بامدیریت عاملی آقای م. ه. بطرفیت آقای م. الف. فرزند م. به خواسته دعوی تقابل و الزام خوانده به تفکیک و تنظیم سند رسمی انتقال محل پست برق مساحت ۴۸ متر مربع از پلاک ثبتی … فرعی از … اصلی بخش ۱۱ تهران به انضمام خسارات دادرسی؛ بدین شرح تقدیم دادگاه گردیده است که خواهان تقابل اعلام نموده است که ملک مذکور را جهت احداث پست برق تصرف نموده است و با توجه به اینکه بر اساس حق حبس پرداخت بهای ملک منوط به تنظیم سند رسمی می‌باشد، لذا تقاضای صدور حکم به شرح خواسته را نموده است. این دادگاه در خصوص دعوی خواهان اصلی بطرفیت خواندگان ردیف دوم و سوم دعوی اصلی با عنایت به اینکه ملک در تصرف انها نمی‌باشد و دعوی متوجه خواندگان مذکور نمی‌باشد؛ لذا این دادگاه مستندا به ماده ۲ و ماده ۸۹ قانون آئین دادرسی مدنی ناظر بر بند ۴ ماده ۸۴ قانون آئین دادرسی مدنی قرار رد دعوی خواهان اصلی را بطرفیت خواندگان ردیف دوم و سوم دعوی مذکور صادر و اعلام می‌نماید. و در خصوص دعوی خواهان اصلی بطرفیت شرکت توزیع نیروی برق تهران بزرگ این دادگاه با توجه به دادخواست تقدیمی خواهان اصلی و فتوکپی مصدق سند مالکیت و با عنایت به پاسخ استعلام ثبتی مورخ ۹۳ / ۳ / ۱۹ که دلالت بر ثبت ملک به نام خواهان اصلی و مالکیت رسمی ایشان دارد و با توجه به اقرار خوانده مذکور به تصرفات خویش و با توجه به اینکه کارشناس رسمی دادگستری اقای م. ت. حدود و مساحت مورد تصرف خوانده را مشخص نموده است و نظر به اینکه هیات سه نفره کارشناسان ارزش ملک مورد تصرف را سه میلیارد و چهارصد و هشتاد میلیون ریال اعلام نموده‌اند و نظریه مذکور بطرفین ابلاغ گردیده که مورد اعتراض واقع‌شده است ولی اعتراض مستند و موجه بنظر نمی‌رسد و نظریه با اوضاع و احوال پرونده منطبق بنظر می‌رسد، لذا ضمن رد اعتراض وکیل خواهان اصلی و مستندا لایحه قانونی نحوه خرید و تملک اراضی توسط دولت مصوب ۵۸ / ۱۱ / ۱۸ و مواد ۱۹۸ و ۵۰۲ و ۵۱۵ و ۵۱۹ قانون آئین دادرسی مدنی حکم به محکومیت شرکت توزیع نیروی برق تهران بزرگ به پرداخت مبلغ سه میلیارد و چهارصد و هشتاد میلیون ریال بابت اصل خواسته و مبلغ یکصد و چهار میلیون و هفتصد هزار ریال بابت هزینه دادرسی و پرداخت مبلغ بیست میلیون ریال بابت هزینه کارشناسی و پرداخت حق‌الوکاله وکیل بر اساس تعرفه قانونی صادر و اعلام می‌نماید و اجرای رای منوط به ابطال مابه‌التفاوت تمبر هزینه دادرسی است. و در خصوص دعوی تقابل نیز این دادگاه بنا به مراتب فوق‌الذکر دعوی خواهان تقابل را نیز وارد تشخیص و مستندا به ماده ۳۷۷ قانون مدنی و مواد ۵۰۲ و ۵۱۵ و ۵۱۹ قانون آئین دادرسی مدنی حکم به محکومیت خوانده تقابل به تفکیک و تنظیم سند رسمی انتقال ۴۸ متر مساحت مورد تصرف خواهان تقابل برای ایجاد پست برق و پرداخت هزینه دادرسی به مبلغ ۶۸۵۴۸۰ ریال صادر و اعلام می‌نماید. رای صادره حضوری محسوب و ظرف مدت ۲۰ روز پس از ابلاغ قابل تجدید نظرخواهی در محاکم محترم تجدید نظر استان تهران می‌باشد. \n",
      ". \n",
      "رئیس شعبه ۱۰۷ دادگاه حقوقی تهران - ابراهیم کرمی. رأی دادگاه تجدیدنظر استان. در خصوص تجدیدنظر خواهی شرکت توزیع نیروی برق تهران بزرگ به طرفیت آقای م. الف. از دادنامه شماره ۶۳۵ مورخه ۹۴ / ۶ / ۲۴ صادره از شعبه ۱۰۷ دادگاه عمومی حقوقی تهران که متضمن صدور قرار رد تجدیدنظرخواهی بعمل آمده از ناحیه تجدیدنظر خواه نسبت به دادنامه شماره ۳۲۴ مورخه ۹۴ / ۴ / ۱۴ صادره از شعبه مذکور به دلیل عدم رفع نقض از حیث پرداخت هزینه دادرسی مرحله تجدیدنظر خواهی در اجرای تبصره ۲ ماده ۳۳۹ قانون آئین دادرسی مدنی است دادگاه در این مرحله از دادرسی پس از بررسی مندرجات پرونده تجدیدنظر خواهی بعمل آمده را وارد ندانسته و اساسا آن را به کیفیتی نمی‌داند تا موجبات نقض و اعلام بی اعتباری دادنامه تجدیدنظر خواسته را برای این دادگاه موجه و مدلل نماید زیرا تجدیدنظر خواه علیرغم ابلاغ احضاریه مضبوط در صفحه ۱۶۷ پرونده در فرجه داده‌شده اقدام به رفع نقض ننموده و در این راستا دفاعی نیز ننموده و چون دادنامه تجدیدنظر خواسته در این بخش موافق با مقررات قانونی اصدار یافته و تجدیدنظر خواهی بعمل آمده نیز با هیچیک از شقوق مختلف ماده ۳۴۸ قانون آئین دادرسی مدنی منطبق نبوده دادکاه ضمن رد تجدیدنظر خواهی بعمل آمده به استناد ماده ۳۵۳ قانون یاد شده دادنامه تجدیدنظر خواسته را در بخش مورد اعتراض عینا تایید می‌نماید و اما در بخشی که دلالت بر تجدیدنظرخواهی آقای م. الف. با وکالت آقای ش. ق. به طرفیت شرکت توزیع نیروی برق تهران بزرگ از دادنامه شماره ۳۲۴ مورخه ۹۴ / ۴ / ۱۴ صادره از شعبه ۱۰۷ دادگاه عمومی حقوقی تهران در بخشی که دلالت بر الزام تجدیدنظرخواه به تفکیک و تنظیم سند رسمی انتقال محل پست برق به مساحت ۴۸ متر مربع از پلاک ثبتی … فرعی از … اصلی بخش ۱۱ تهران به انضمام خسارات دادرسی دارد دادگاه در این مرحله از دادرسی پس از بررسی مندرجات پرونده تجدیدنظر خواهی بعمل آمده را وارد ندانسته و اساسا آن را به کیفیتی نمی‌داند تا موجبات نقض و اعلام بی اعتباری دادنامه تجدیدنظر خواسته را برای این دادگاه موجه و مدلل نماید زیرا تجدیدنظر خواه به عنوان مالک قانونی محل تحت تملک تکلیف داشته در قبال دریافت ارزش عادله روز نسبت به تفکیک و انتقال میزان محدوده تملک شده در حق تجدیدنظرخوانده اقدام نماید در ما نحن فیه دلیل بر ممنوعیت تفکیک ارائه نشده مضافا در صورت اقدام قانونی در جهت تفکیک و تعذر قانونی در این خصوص تجدیدنظر خواه ناگذیر از انتقال مشاعی میزان ۴۸ مترمربع محدوده تصرف تجدیدنظرخوانده در قبال دریافت قیمت عادله روز تعیین‌شده مندرج در دادنامه تجدیدنظرخواسته خواهد بود و چون تجدیدنظرخواهی بعمل آمده با وصف یاد شده با هیچ‌یک از شقوق مختلف ماده ۳۴۸ قانون آئین دادرسی مدنی منطبق نبوده دادگاه ضمن رد تجدیدنظرخواهی بعمل آمده به استناد ماده ۳۵۸ قانون یاد شده عینا دادنامه تجدیدنظرخواسته را در محدوده تجدیدنظرخواهی بعمل آمده تایید می‌نماید رای صادره حضوری و قطعی است و اما در خصوص تجدیدنظرخواهی آقای م. الف. به طرفیت شرکت توزیع نیروی برق شمال شرق تهران و شرکت مادر تخصصی تولید انتقال و توزیع نیروی برق ایران (توانیر) نظر به اینکه تجدیدنظرخواه مذکور در دادنامه شماره ۳۲۴ مورخه ۹۴ / ۴ / ۱۴ صادره از شعبه ۱۰۷ دادگاه عمومی حقوقی تهران محکومیتی نداشته لذا موجبی در جهت اعتراض راجع به تجدیدنظرخواندگان یاد شده از دادنامه موضوع حکم نبوده و بر همین اساس اعتراض ایشان در این بخش نسبت به تجدیدنظر خواندگان ردیف دوم و سوم دادخواست اعتراض قابلیت استماع نداشته به استناد ماده ۲ قانون آئین دادرسی مدنی قرار عدم استماع تجدیدنظر خواهی آقای م. الف. صادر و اعلام می‌گردد رای صادره حضوری و قطعی است. \n",
      ". \n",
      "شعبه ۵۵ دادگاه تجدیدنظر استان تهران - رئیس ​و مستشار\n",
      ". \n",
      "علیرضا طاهری - پرویز رحیمی\n",
      ". \n",
      ". \n",
      "\n"
     ]
    }
   ],
   "source": [
    "print(case_df.loc[911,\"text\"])"
   ]
  },
  {
   "cell_type": "markdown",
   "metadata": {},
   "source": [
    "# next section"
   ]
  },
  {
   "cell_type": "code",
   "execution_count": 2,
   "metadata": {},
   "outputs": [
    {
     "ename": "NameError",
     "evalue": "name 'SyntacticalRetrival' is not defined",
     "output_type": "error",
     "traceback": [
      "\u001b[0;31m---------------------------------------------------------------------------\u001b[0m",
      "\u001b[0;31mNameError\u001b[0m                                 Traceback (most recent call last)",
      "Cell \u001b[0;32mIn[2], line 2\u001b[0m\n\u001b[1;32m      1\u001b[0m case_df \u001b[38;5;241m=\u001b[39m pd\u001b[38;5;241m.\u001b[39mread_csv(\u001b[38;5;124m\"\u001b[39m\u001b[38;5;124m../../resource/case/case.csv\u001b[39m\u001b[38;5;124m\"\u001b[39m)\n\u001b[0;32m----> 2\u001b[0m ri_model \u001b[38;5;241m=\u001b[39m \u001b[43mSyntacticalRetrival\u001b[49m(case_df\u001b[38;5;241m.\u001b[39mhead(\u001b[38;5;241m100\u001b[39m))\n",
      "\u001b[0;31mNameError\u001b[0m: name 'SyntacticalRetrival' is not defined"
     ]
    }
   ],
   "source": [
    "case_df = pd.read_csv(\"../../resource/case/case.csv\")\n",
    "ri_model = SyntacticalRetrival(case_df.head(100))"
   ]
  },
  {
   "cell_type": "code",
   "execution_count": 12,
   "metadata": {},
   "outputs": [],
   "source": [
    "from gensim.models import Word2Vec\n",
    "from sklearn.metrics.pairwise import cosine_similarity\n",
    "import numpy as np\n",
    "from hazm import *\n",
    "\n",
    "from operator import itemgetter\n",
    " \n",
    "\n",
    "import codecs\n",
    "stopwords = [h_normalizer.normalize(x.strip()) \n",
    "             for x in codecs.open(\"../../config/case_stopwords.txt\",'r','utf-8').readlines()]\n",
    "\n",
    "# Sample documents\n",
    "\n",
    "\n",
    "# Preprocessing - you may want to tokenize, remove stopwords, etc.\n",
    "\n",
    "# Train Word2Vec model\n",
    "documents = case_df.title\n",
    "tokenized_docs = [word_tokenize(doc) for doc in documents]\n",
    "tokenized_docs_nonstopwords = [tok for tok in tokenized_docs if tok not in stopwords]\n",
    "model = Word2Vec(tokenized_docs_nonstopwords, vector_size=128, window=10, min_count=1, workers=4)\n",
    "\n",
    "# Function to get document embeddings\n",
    "def get_doc_embedding(doc, model):\n",
    "    word_embeddings = [model.wv[word] for word in doc if word in model.wv]\n",
    "    if len(word_embeddings) > 0:\n",
    "        return np.mean(word_embeddings, axis=0)\n",
    "    else:\n",
    "        return np.zeros(model.vector_size)  # Return zero vector if no words found in vocab\n",
    "\n",
    "# Get embeddings for all documents\n",
    "doc_embeddings = [get_doc_embedding(word_tokenize(doc), model) for doc in documents]\n",
    "\n",
    "# Function to calculate cosine similarity between two vectors\n",
    "def calculate_cosine_similarity(vector1, vector2):\n",
    "    return cosine_similarity([vector1], [vector2])[0][0]\n",
    "\n",
    "def get_similarty(query:str):\n",
    "    similarities = [calculate_cosine_similarity(get_doc_embedding(word_tokenize(query), model), doc_emb) for doc_emb in doc_embeddings]\n",
    "    most_similar_index = np.argmax(similarities) \n",
    "    indices = list(sorted(enumerate(similarities), key = itemgetter(1)))[-5:]\n",
    "    return indices\n",
    "\n",
    "\n"
   ]
  },
  {
   "cell_type": "code",
   "execution_count": 13,
   "metadata": {},
   "outputs": [
    {
     "data": {
      "text/plain": [
       "[(859, 0.99995995),\n",
       " (594, 0.9999603),\n",
       " (352, 0.99996054),\n",
       " (617, 0.99996054),\n",
       " (1001, 1.0)]"
      ]
     },
     "execution_count": 13,
     "metadata": {},
     "output_type": "execute_result"
    }
   ],
   "source": [
    "# similarities = get_similarty(case_df.loc[101,\"text\"])\n",
    "# similarities.index(max(similarities))\n",
    "get_similarty(case_df.loc[1001,\"title\"])\n",
    "\n",
    "# print(model.wv.most_similar('قانون', topn=10) )\n"
   ]
  },
  {
   "cell_type": "code",
   "execution_count": 21,
   "metadata": {},
   "outputs": [
    {
     "name": "stdout",
     "output_type": "stream",
     "text": [
      "0.146308\n"
     ]
    }
   ],
   "source": [
    "vector1 = model.wv[\"ارای\"]\n",
    "vector2 = model.wv[\"وحدت\"]\n",
    "print(cosine_similarity([vector1], [vector2])[0][0])"
   ]
  },
  {
   "cell_type": "code",
   "execution_count": 15,
   "metadata": {},
   "outputs": [
    {
     "name": "stdout",
     "output_type": "stream",
     "text": [
      "\n",
      ". رأی شعبه بدوی دیوان عدالت اداری. در خصوص شکایت مطروحه به شرح فوق‌الذکر [به طرفیت کمیسیون ماده ۲۰ معاونت غذا و داروی دانشگاه علوم پزشکی شهید بهشتی و موضوع شکایت و خواسته ابطال رای مورخه ۹ / ۱۱ / ۹۱ کمیسیون ماده ۲۰ و الزام خوانده به صدور پروانه تاسیس سرمایه گذاری داروخانه] با توجه به مدارک ابرازی و لایحه دفاعیه طرف شکایت اولا شاکی درخواست انتقال پروانه متعلق به پدرش را به نام خود دارد که تاسیس جدید محسوب نمی‌گردد. ثانیا مطابق آراء شماره ۵ مورخ ۶۲ / ۳ / ۹ و ۹۷ - ۹۶ مورخ ۸۰ / ۳ / ۴ و ۲۴۰ - ۸۴ / ۵ / ۳۰ صادره از هیئت عمومی دیوان عدالت اداری موسس نیازی به داشتن مدرک تخصصی و فنی خاص نداشته و فروش و انتقال پروانه به غیر داروساز نیز منعی ندارد. ثالثا تخلفات اعلامی توسط طرف شکایت بر فرض صحت مربوط به مسئولین فنی داروخانه و نسخه پیچ می‌باشد. رابعا مراجع مربوطه مکلف به اجرای آراء صادره از شعب و هیئت عمومی دیوان عدالت اداری می‌باشند که در مانحن فیه در دادنامه شماره ۲۵۱۷ - ۹۰ / ۱۰ / ۷ صادره از این شعبه در سطر آخر صراحتا به صدور پروانه تاسیس و اجابت خواسته شاکی اظهارنظر گردیده است ولی اعضاء کمیسیون ماده ۲۰ در رای مورد اعتراض مفاد رای صادره از شعبه دوم را اجرا نکرده‌اند. لذا شعبه مستندا به مواد ۱۰ و ۶۳ و ۶۵ قانون تشکیلات و آیین دادرسی دیوان عدالت اداری و موارد معنونه حکم به ورود شکایت و نقض رای مورخ ۹۱ / ۱۱ / ۹ کمیسیون ماده ۲۰ جهت بررسی و جرای مفاد این رای و دادنامه شماره ۲۵۱۷ - ۹۰ / ۱۰ / ۷ صادره از این شعبه در مرجع مربوطه صادر و اعلام می‌نماید. رای صادره ظرف بیست روز از تاریخ ابلاغ قابل اعتراض در شعب تجدیدنظر دیوان می‌باشد. \n",
      ". \n",
      "رئیس شعبه دوم دیوان عدالت اداری - طاهری. رأی شعبه تجدیدنظر دیوان عدالت اداری. نظربه اینکه اعتراضات تجدیدنظرخواه به کیفیتی نیست که اساس استنباط شعبه بدوی را مخدوش نماید و یا سبب تزلزل ونتیجتا نقض رای معترض به شود و از آنجایی که دادنامه مورداعتراض منطبق با موازین قانونی صادر شده است و از جهت رعایت اصول و قواعد دادرسی نیز عاری از اشکال و ایراد می‌باشد. لذا با ردتقاضای تجدیدنظرخواهی با استناد به ماده ۷۱ قانون تشکیلات و آئین دادرسی دیوان عدالت اداری رای معترض به عینا تایید واستوار می‌گردد. رای صادره قطعی است. \n",
      ". \n",
      "مستشاران شعبه ۱۳ تجدیدنظر دیوان عدالت اداری\n",
      ". \n",
      "علیقلی فرحپور - محمدرضا دلاوری\n",
      ". \n",
      ". \n",
      "\n"
     ]
    }
   ],
   "source": [
    "print(case_df.loc[155,\"text\"])\n",
    "# case_df.loc[199,\"number\"])"
   ]
  }
 ],
 "metadata": {
  "kernelspec": {
   "display_name": ".venv",
   "language": "python",
   "name": "python3"
  },
  "language_info": {
   "codemirror_mode": {
    "name": "ipython",
    "version": 3
   },
   "file_extension": ".py",
   "mimetype": "text/x-python",
   "name": "python",
   "nbconvert_exporter": "python",
   "pygments_lexer": "ipython3",
   "version": "3.10.12"
  }
 },
 "nbformat": 4,
 "nbformat_minor": 2
}

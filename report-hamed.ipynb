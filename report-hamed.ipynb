{
 "cells": [
  {
   "cell_type": "code",
   "execution_count": 1,
   "metadata": {},
   "outputs": [],
   "source": [
    "from dataset.dataset_creator import *\n",
    "from config.paths import Paths\n"
   ]
  },
  {
   "cell_type": "markdown",
   "metadata": {},
   "source": [
    "<h2 style='direction:rtl;'>\n",
    "    آماده سازی مجموعه داده\n",
    "</h2>\n",
    "<div style=\"direction: rtl;\">\n",
    "   \n",
    "</div>"
   ]
  },
  {
   "cell_type": "code",
   "execution_count": 3,
   "metadata": {},
   "outputs": [],
   "source": [
    "dataset_creator = LawDatasetCreator()\n",
    "ekhtebar_df = dataset_creator.gz_to_df(Paths.LEGAL_DATA.value+\"ekhtebar.gz\")\n",
    "qavanin_df = dataset_creator.gz_to_df(Paths.LEGAL_DATA.value+\"Law/qavanin.gz\")\n",
    "shenasname_df = dataset_creator.gz_to_df(Paths.LEGAL_DATA.value+\"shenasname.gz\")"
   ]
  },
  {
   "cell_type": "code",
   "execution_count": 10,
   "metadata": {},
   "outputs": [],
   "source": [
    "ekhtebar_df.to_csv(Paths.LEGAL_DATA.value+\"ekhtebar.csv\", index=False)\n",
    "qavanin_df.to_csv(Paths.LEGAL_DATA.value+\"qavanin.csv\", index=False)\n",
    "shenasname_df.to_csv(Paths.LEGAL_DATA.value+\"shenasname.csv\", index=False)"
   ]
  }
 ],
 "metadata": {
  "kernelspec": {
   "display_name": "Python 3",
   "language": "python",
   "name": "python3"
  },
  "language_info": {
   "codemirror_mode": {
    "name": "ipython",
    "version": 3
   },
   "file_extension": ".py",
   "mimetype": "text/x-python",
   "name": "python",
   "nbconvert_exporter": "python",
   "pygments_lexer": "ipython3",
   "version": "3.10.12"
  }
 },
 "nbformat": 4,
 "nbformat_minor": 2
}

{
 "cells": [
  {
   "cell_type": "markdown",
   "metadata": {},
   "source": [
    "# Dataset Pre-Processor\n",
    "In this notebook, the following items are pre-processed on the data so that the data of each section(Case, Law, News, Blog) can be prepared:\n",
    "- Extract useful data from sample files\n",
    "- Transforming all useful information in a same dataframe format "
   ]
  },
  {
   "cell_type": "markdown",
   "metadata": {},
   "source": [
    "## Initialize"
   ]
  },
  {
   "cell_type": "code",
   "execution_count": 1,
   "metadata": {},
   "outputs": [],
   "source": [
    "from dataset_creator import LegalDatasetPreProcessor, LawTxetPreProcessor"
   ]
  },
  {
   "cell_type": "code",
   "execution_count": 2,
   "metadata": {},
   "outputs": [],
   "source": [
    "pre_processor = LegalDatasetPreProcessor()\n",
    "ekhtebar_df = pre_processor.gz_to_df(\"../resource/sample_resource/ekhtebar.gz\")\n",
    "shenasname_df = pre_processor.gz_to_df(\"../resource/sample_resource/shenasname.gz\")\n",
    "qavanin_df = pre_processor.gz_to_df(\"../resource/sample_resource/qavanin.gz\")"
   ]
  },
  {
   "cell_type": "markdown",
   "metadata": {},
   "source": [
    "## Extract Law"
   ]
  },
  {
   "cell_type": "code",
   "execution_count": 3,
   "metadata": {},
   "outputs": [],
   "source": [
    "with open(\"../resource/law/law.txt\", 'r', encoding='utf-8') as file:\n",
    "    content = file.read()\n",
    "law_list = content.split(\"@\")[:-1]"
   ]
  },
  {
   "cell_type": "code",
   "execution_count": 13,
   "metadata": {},
   "outputs": [],
   "source": [
    "law_processor = LawTxetPreProcessor(law_list)\n",
    "law_name_df, madeh_df = law_processor.get_df()\n",
    "law_name_df.to_csv(\"../resource/law/law_name_dataset.csv\", index=False, encoding=\"utf-8\")\n",
    "madeh_df.to_csv(\"../resource/law/madeh_df_dataset.csv\", index=False, encoding=\"utf-8\")"
   ]
  },
  {
   "cell_type": "markdown",
   "metadata": {},
   "source": [
    "madeh[54]"
   ]
  },
  {
   "cell_type": "markdown",
   "metadata": {},
   "source": [
    "## Extract News\n",
    "The only dataset of Ekhtebar as a news site has news_tag."
   ]
  },
  {
   "cell_type": "code",
   "execution_count": 4,
   "metadata": {},
   "outputs": [
    {
     "data": {
      "text/html": [
       "<div>\n",
       "<style scoped>\n",
       "    .dataframe tbody tr th:only-of-type {\n",
       "        vertical-align: middle;\n",
       "    }\n",
       "\n",
       "    .dataframe tbody tr th {\n",
       "        vertical-align: top;\n",
       "    }\n",
       "\n",
       "    .dataframe thead th {\n",
       "        text-align: right;\n",
       "    }\n",
       "</style>\n",
       "<table border=\"1\" class=\"dataframe\">\n",
       "  <thead>\n",
       "    <tr style=\"text-align: right;\">\n",
       "      <th></th>\n",
       "      <th>title</th>\n",
       "      <th>content_html</th>\n",
       "      <th>date</th>\n",
       "      <th>url</th>\n",
       "      <th>tags</th>\n",
       "      <th>category.original</th>\n",
       "      <th>content</th>\n",
       "    </tr>\n",
       "  </thead>\n",
       "  <tbody>\n",
       "    <tr>\n",
       "      <th>0</th>\n",
       "      <td>تمدید مهلت ثبت‌نام پذیرفته‌شدگان آزمون مشاوران...</td>\n",
       "      <td>[{'type': 'h1', 'text': 'مهلت ثبت‌نام پذیرفته‌...</td>\n",
       "      <td>2018-04-03</td>\n",
       "      <td>https://ekhtebar.ir/%d8%aa%d9%85%d8%af%db%8c%d...</td>\n",
       "      <td>[آزمون ماده ۱۸۷, آزمون مرکز وکلا ۹۸, آزمون مشا...</td>\n",
       "      <td>آزمون های حقوقی/آزمون مرکز وکلای قوه قضائیه</td>\n",
       "      <td>مهلت ثبت‌نام پذیرفته‌شدگان آزمون مشاوران حقوقی...</td>\n",
       "    </tr>\n",
       "    <tr>\n",
       "      <th>1</th>\n",
       "      <td>مرجع قضایی، وکالت را کسب و کار ندانست</td>\n",
       "      <td>[{'type': 'h2', 'text': 'قرار منع تعقیب کانون ...</td>\n",
       "      <td>2018-04-03</td>\n",
       "      <td>https://ekhtebar.ir/%d9%85%d8%b1%d8%ac%d8%b9-%...</td>\n",
       "      <td>[تسهیل مجوز کسب و کار, کانون وکلای دادگستری یز...</td>\n",
       "      <td>اخبار/اخبار کانون وکلای دادگستری</td>\n",
       "      <td>قرار منع تعقیب کانون وکلا از اتهام «عدم اعلام ...</td>\n",
       "    </tr>\n",
       "    <tr>\n",
       "      <th>2</th>\n",
       "      <td>کارنامه آزمون دکتری سال ۹۷ هفته آخر فروردین من...</td>\n",
       "      <td>[{'type': 'h2', 'text': 'نتایج اولیه آزمون دکت...</td>\n",
       "      <td>2018-04-03</td>\n",
       "      <td>https://ekhtebar.ir/%da%a9%d8%a7%d8%b1%d9%86%d...</td>\n",
       "      <td>[آزمون دکتری حقوق, اعلام نتیجه, دکتری 97]</td>\n",
       "      <td>اخبار/اخبار دانشگاه ها</td>\n",
       "      <td>نتایج اولیه آزمون دکتری سال ۹۷ هفته آخر فروردی...</td>\n",
       "    </tr>\n",
       "    <tr>\n",
       "      <th>3</th>\n",
       "      <td>آغاز ثبت‌نام آزمون EPT فروردین‌ماه ۹۷ دانشگاه ...</td>\n",
       "      <td>[{'type': 'h2', 'text': 'ثبت‌نام آزمون EPT دان...</td>\n",
       "      <td>2018-04-04</td>\n",
       "      <td>https://ekhtebar.ir/%d8%a2%d8%ba%d8%a7%d8%b2-%...</td>\n",
       "      <td>[آزمون ept]</td>\n",
       "      <td>آزمون های حقوقی/آزمون دکتری حقوق/آزمون زبان دکتری</td>\n",
       "      <td>ثبت‌نام آزمون EPT دانشگاه آزاد اسلامی آغاز شدا...</td>\n",
       "    </tr>\n",
       "    <tr>\n",
       "      <th>4</th>\n",
       "      <td>شیوه جدید برگزاری مصاحبه دکتری در دانشگاه آزاد...</td>\n",
       "      <td>[{'type': 'h3', 'text': 'رئیس مرکز سنجش دانشگا...</td>\n",
       "      <td>2018-04-04</td>\n",
       "      <td>https://ekhtebar.ir/%d8%b4%db%8c%d9%88%d9%87-%...</td>\n",
       "      <td>[دکتری حقوق, دکتری حقوق ۹۷, دکتری دانشگاه آزاد]</td>\n",
       "      <td>آزمون های حقوقی/آزمون دکتری حقوق</td>\n",
       "      <td>رئیس مرکز سنجش دانشگاه خبر داد: شیوه جدید برگز...</td>\n",
       "    </tr>\n",
       "  </tbody>\n",
       "</table>\n",
       "</div>"
      ],
      "text/plain": [
       "                                               title  \\\n",
       "0  تمدید مهلت ثبت‌نام پذیرفته‌شدگان آزمون مشاوران...   \n",
       "1              مرجع قضایی، وکالت را کسب و کار ندانست   \n",
       "2  کارنامه آزمون دکتری سال ۹۷ هفته آخر فروردین من...   \n",
       "3  آغاز ثبت‌نام آزمون EPT فروردین‌ماه ۹۷ دانشگاه ...   \n",
       "4  شیوه جدید برگزاری مصاحبه دکتری در دانشگاه آزاد...   \n",
       "\n",
       "                                        content_html        date  \\\n",
       "0  [{'type': 'h1', 'text': 'مهلت ثبت‌نام پذیرفته‌...  2018-04-03   \n",
       "1  [{'type': 'h2', 'text': 'قرار منع تعقیب کانون ...  2018-04-03   \n",
       "2  [{'type': 'h2', 'text': 'نتایج اولیه آزمون دکت...  2018-04-03   \n",
       "3  [{'type': 'h2', 'text': 'ثبت‌نام آزمون EPT دان...  2018-04-04   \n",
       "4  [{'type': 'h3', 'text': 'رئیس مرکز سنجش دانشگا...  2018-04-04   \n",
       "\n",
       "                                                 url  \\\n",
       "0  https://ekhtebar.ir/%d8%aa%d9%85%d8%af%db%8c%d...   \n",
       "1  https://ekhtebar.ir/%d9%85%d8%b1%d8%ac%d8%b9-%...   \n",
       "2  https://ekhtebar.ir/%da%a9%d8%a7%d8%b1%d9%86%d...   \n",
       "3  https://ekhtebar.ir/%d8%a2%d8%ba%d8%a7%d8%b2-%...   \n",
       "4  https://ekhtebar.ir/%d8%b4%db%8c%d9%88%d9%87-%...   \n",
       "\n",
       "                                                tags  \\\n",
       "0  [آزمون ماده ۱۸۷, آزمون مرکز وکلا ۹۸, آزمون مشا...   \n",
       "1  [تسهیل مجوز کسب و کار, کانون وکلای دادگستری یز...   \n",
       "2          [آزمون دکتری حقوق, اعلام نتیجه, دکتری 97]   \n",
       "3                                        [آزمون ept]   \n",
       "4    [دکتری حقوق, دکتری حقوق ۹۷, دکتری دانشگاه آزاد]   \n",
       "\n",
       "                                   category.original  \\\n",
       "0        آزمون های حقوقی/آزمون مرکز وکلای قوه قضائیه   \n",
       "1                   اخبار/اخبار کانون وکلای دادگستری   \n",
       "2                             اخبار/اخبار دانشگاه ها   \n",
       "3  آزمون های حقوقی/آزمون دکتری حقوق/آزمون زبان دکتری   \n",
       "4                   آزمون های حقوقی/آزمون دکتری حقوق   \n",
       "\n",
       "                                             content  \n",
       "0  مهلت ثبت‌نام پذیرفته‌شدگان آزمون مشاوران حقوقی...  \n",
       "1  قرار منع تعقیب کانون وکلا از اتهام «عدم اعلام ...  \n",
       "2  نتایج اولیه آزمون دکتری سال ۹۷ هفته آخر فروردی...  \n",
       "3  ثبت‌نام آزمون EPT دانشگاه آزاد اسلامی آغاز شدا...  \n",
       "4  رئیس مرکز سنجش دانشگاه خبر داد: شیوه جدید برگز...  "
      ]
     },
     "execution_count": 4,
     "metadata": {},
     "output_type": "execute_result"
    }
   ],
   "source": [
    "ek_news = pre_processor.ekhtebar_news(ekhtebar_df)\n",
    "ek_news.to_csv(\"../resource/news/nesw.csv\", index=False)\n",
    "ek_news.head() \n"
   ]
  },
  {
   "cell_type": "markdown",
   "metadata": {},
   "source": [
    "## Extract Case"
   ]
  },
  {
   "cell_type": "code",
   "execution_count": 3,
   "metadata": {},
   "outputs": [],
   "source": [
    "with open(\"../resource/case/case.txt\",'r') as f:\n",
    "    data = f.read()\n",
    "case_list = data.split(\"|split|\")[:-1]"
   ]
  },
  {
   "cell_type": "code",
   "execution_count": 4,
   "metadata": {},
   "outputs": [
    {
     "data": {
      "text/html": [
       "<div>\n",
       "<style scoped>\n",
       "    .dataframe tbody tr th:only-of-type {\n",
       "        vertical-align: middle;\n",
       "    }\n",
       "\n",
       "    .dataframe tbody tr th {\n",
       "        vertical-align: top;\n",
       "    }\n",
       "\n",
       "    .dataframe thead th {\n",
       "        text-align: right;\n",
       "    }\n",
       "</style>\n",
       "<table border=\"1\" class=\"dataframe\">\n",
       "  <thead>\n",
       "    <tr style=\"text-align: right;\">\n",
       "      <th></th>\n",
       "      <th>title</th>\n",
       "      <th>number</th>\n",
       "      <th>date</th>\n",
       "      <th>type</th>\n",
       "      <th>text</th>\n",
       "    </tr>\n",
       "  </thead>\n",
       "  <tbody>\n",
       "    <tr>\n",
       "      <th>0</th>\n",
       "      <td>مرجع اتخاذ تصمیم درخصوص امور مالی سازمان تأمین...</td>\n",
       "      <td>۹۵۰۹۹۷۰۹۵۵۹۰۱۸۰۱</td>\n",
       "      <td>۱۳۹۵ / ۰۷ / ۲۵</td>\n",
       "      <td>اداری</td>\n",
       "      <td>\\n. رأی شعبه بدوی دیوان عدالت اداری. در خصوص ش...</td>\n",
       "    </tr>\n",
       "    <tr>\n",
       "      <th>1</th>\n",
       "      <td>چگونگی اخراج کارکنان فراری کادر ثابت ارتش</td>\n",
       "      <td>۹۵۰۹۹۷۰۹۵۵۲۰۳۲۶۵</td>\n",
       "      <td>۱۳۹۵ / ۰۸ / ۱۹</td>\n",
       "      <td>اداری</td>\n",
       "      <td>\\n. رأی شعبه بدوی دیوان عدالت اداری. [در خصوص ...</td>\n",
       "    </tr>\n",
       "    <tr>\n",
       "      <th>2</th>\n",
       "      <td>شخصیت مستقل پژوهشگاه‌های صنعت نفت</td>\n",
       "      <td>۹۵۰۹۹۷۰۹۰۵۶۰۱۰۳۵</td>\n",
       "      <td>۱۳۹۵ / ۰۸ / ۱۵</td>\n",
       "      <td>اداری</td>\n",
       "      <td>\\n. رأی شعبه بدوی دیوان عدالت اداری. [در خصوص ...</td>\n",
       "    </tr>\n",
       "    <tr>\n",
       "      <th>3</th>\n",
       "      <td>ماهیت حقوقی کمیسیون ماده ۱۶ قانون تسهیلات استخ...</td>\n",
       "      <td>۹۵۰۹۹۷۰۹۰۵۶۰۱۰۲۵</td>\n",
       "      <td>۱۳۹۵ / ۰۸ / ۱۱</td>\n",
       "      <td>اداری</td>\n",
       "      <td>\\n. رأی شعبه بدوی دیوان عدالت اداری. در خصوص د...</td>\n",
       "    </tr>\n",
       "    <tr>\n",
       "      <th>4</th>\n",
       "      <td>صلاحیت دیوان و اتحادیه‌های صنفی</td>\n",
       "      <td>۹۵۰۹۹۷۰۹۵۵۲۰۲۷۹۳</td>\n",
       "      <td>۱۳۹۵ / ۰۷ / ۰۶</td>\n",
       "      <td>اداری</td>\n",
       "      <td>\\n. رأی شعبه بدوی دیوان عدالت اداری. [در خصوص ...</td>\n",
       "    </tr>\n",
       "  </tbody>\n",
       "</table>\n",
       "</div>"
      ],
      "text/plain": [
       "                                               title            number  \\\n",
       "0  مرجع اتخاذ تصمیم درخصوص امور مالی سازمان تأمین...  ۹۵۰۹۹۷۰۹۵۵۹۰۱۸۰۱   \n",
       "1          چگونگی اخراج کارکنان فراری کادر ثابت ارتش  ۹۵۰۹۹۷۰۹۵۵۲۰۳۲۶۵   \n",
       "2                  شخصیت مستقل پژوهشگاه‌های صنعت نفت  ۹۵۰۹۹۷۰۹۰۵۶۰۱۰۳۵   \n",
       "3  ماهیت حقوقی کمیسیون ماده ۱۶ قانون تسهیلات استخ...  ۹۵۰۹۹۷۰۹۰۵۶۰۱۰۲۵   \n",
       "4                    صلاحیت دیوان و اتحادیه‌های صنفی  ۹۵۰۹۹۷۰۹۵۵۲۰۲۷۹۳   \n",
       "\n",
       "             date   type                                               text  \n",
       "0  ۱۳۹۵ / ۰۷ / ۲۵  اداری  \\n. رأی شعبه بدوی دیوان عدالت اداری. در خصوص ش...  \n",
       "1  ۱۳۹۵ / ۰۸ / ۱۹  اداری  \\n. رأی شعبه بدوی دیوان عدالت اداری. [در خصوص ...  \n",
       "2  ۱۳۹۵ / ۰۸ / ۱۵  اداری  \\n. رأی شعبه بدوی دیوان عدالت اداری. [در خصوص ...  \n",
       "3  ۱۳۹۵ / ۰۸ / ۱۱  اداری  \\n. رأی شعبه بدوی دیوان عدالت اداری. در خصوص د...  \n",
       "4  ۱۳۹۵ / ۰۷ / ۰۶  اداری  \\n. رأی شعبه بدوی دیوان عدالت اداری. [در خصوص ...  "
      ]
     },
     "execution_count": 4,
     "metadata": {},
     "output_type": "execute_result"
    }
   ],
   "source": [
    "df = pre_processor.case_to_df(case_list)\n",
    "df.to_csv(\"../resource/case/case.csv\", index=False)\n",
    "df.head()"
   ]
  }
 ],
 "metadata": {
  "kernelspec": {
   "display_name": ".venv",
   "language": "python",
   "name": "python3"
  },
  "language_info": {
   "codemirror_mode": {
    "name": "ipython",
    "version": 3
   },
   "file_extension": ".py",
   "mimetype": "text/x-python",
   "name": "python",
   "nbconvert_exporter": "python",
   "pygments_lexer": "ipython3",
   "version": "3.10.12"
  }
 },
 "nbformat": 4,
 "nbformat_minor": 2
}

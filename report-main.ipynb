{
 "cells": [
  {
   "cell_type": "code",
   "execution_count": null,
   "metadata": {},
   "outputs": [],
   "source": [
    "! pip install -r Requirements.txt"
   ]
  },
  {
   "cell_type": "markdown",
   "metadata": {},
   "source": [
    "<h3 style='direction:rtl;'>\n",
    "    <li>تمیزسازی اطلاعات استخراج شده</li>\n",
    "</h3>\n",
    "<div style=\"direction: rtl;\">\n",
    "<li>سمپل</li>\n",
    "در این بخش اطلاعات خام کرال شده به صورت یک متن فارسی یکپارچه و منظم در می آید و کدهای html و موارد نامناسب از اطلاعات پاک میگردد. این تمیزسازی در سطح پیش پردازش های زبانی نبوده و تنها در سطح تمیزکردن اطلاعات کرال شده است. به موارد مرتبط با پیش پردازش زبانی در بخش بعدی پرداخته می شود. \n",
    "</div>"
   ]
  }
 ],
 "metadata": {
  "kernelspec": {
   "display_name": "Python 3",
   "language": "python",
   "name": "python3"
  },
  "language_info": {
   "codemirror_mode": {
    "name": "ipython",
    "version": 3
   },
   "file_extension": ".py",
   "mimetype": "text/x-python",
   "name": "python",
   "nbconvert_exporter": "python",
   "pygments_lexer": "ipython3",
   "version": "3.10.12"
  }
 },
 "nbformat": 4,
 "nbformat_minor": 2
}

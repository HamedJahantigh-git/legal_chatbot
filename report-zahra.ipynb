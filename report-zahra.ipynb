{
 "cells": [
  {
   "cell_type": "markdown",
   "metadata": {},
   "source": [
    " <div style=\"text-align: right\">\n",
    "    <h1>استخراج ویژگی‌ها از متن</h1>\n",
    "    </div>"
   ]
  },
  {
   "cell_type": "markdown",
   "metadata": {},
   "source": [
    "<style>\n",
    "    .right-align-list {\n",
    "      direction: rtl; \n",
    "      list-style-position: inside;\n",
    "      padding: 0;\n",
    "    }\n",
    "    \n",
    "    .right-align-list li {\n",
    "    text-align: right;\n",
    "    padding-right: 20px;\n",
    "    }\n",
    "    </style>\n",
    "<div style=\"text-align: right\">\n",
    "    به دلیل تنوع بالای متون حقوقی، ویژگی‌های قابل استخراج از این متون نیز متنوع می‌باشد. در اینجا ما به استخراج 4 ویژگی مهم این متون پرداختیم که عبارتند از\n",
    "    </div>\n",
    "    <ul class=\"right-align-list\">\n",
    "    <li>استخراج ماده و اصول</li>\n",
    "    <li>استخراج قوانین</li>\n",
    "    <li>استخراج تاریخ‌ها</li>\n",
    "    </ul>"
   ]
  },
  {
   "cell_type": "markdown",
   "metadata": {},
   "source": [
    "<div style=\"text-align: right\">\n",
    "    <h2>استخراج ماده و اصول</h2>\n",
    "</div>"
   ]
  },
  {
   "cell_type": "markdown",
   "metadata": {},
   "source": [
    "<style>\n",
    "    .right-align-list {\n",
    "      direction: rtl; \n",
    "      list-style-position: inside;\n",
    "      padding: 0;\n",
    "    }\n",
    "    \n",
    "    .right-align-list li {\n",
    "    text-align: right;\n",
    "    padding-right: 20px;\n",
    "    }\n",
    "\n",
    "</style>\n",
    "\n",
    "<div style=\"text-align: right\">\n",
    "جهت استخراج مواد چند کلمه کلیدی {'ماده', 'مواد', 'اصل', 'اصول'} را به عنوان شاخص جستجو در نظر گرفتیم.\n",
    "متن را به جملات کوتاه شکسته و هر جمله را با کمک کتابخانه هضم چانک بندی میکنیم. از میان چانک‌ها، آن‌هایی که برچسب‌های زیر را دارند جدا میکنیم.\n",
    "</div>\n",
    "<ul class=\"right-align-list\">\n",
    "    <li>گروه اسمی - NP</li>\n",
    "    <li> گروه قیدی - ADVP</li>\n",
    "    <li>گروه وصفی - ADJP</li>\n",
    "</ul>\n",
    "\n",
    "<div style=\"text-align: right; direction: rtl\">\n",
    "       پس از آن با کمک کلاس <code>find_article</code> به دنبال این کلمات کلیدی می‌گردیم.\n",
    "        دو حالت را در نظر میگیریم:\n",
    "        <br>\n",
    "        حالت اول: ماده و قانون در یک چانک باشند\n",
    "        <br>\n",
    "        حالت دوم: چانک فاقد قانون بوده و فقط دارای ماده باشد\n",
    "        <br>\n",
    "        در هر حالت پس از یافتن ماده و نقطه شروع و پایان، آن را به تابع اصلی بازگردانده و در آخر لیستی شامل مواد و span را باز میگردانیم\n",
    "</div>"
   ]
  },
  {
   "cell_type": "markdown",
   "metadata": {},
   "source": [
    "<div style=\"text-align: right\">\n",
    "    <h2>استخراج قوانین</h2>\n",
    "</div>"
   ]
  },
  {
   "cell_type": "markdown",
   "metadata": {},
   "source": [
    "<style>\n",
    "    .right-align-list {\n",
    "      direction: rtl; \n",
    "      list-style-position: inside;\n",
    "      padding: 0;\n",
    "    }\n",
    "    \n",
    "    .right-align-list li {\n",
    "    text-align: right;\n",
    "    padding-right: 20px;\n",
    "    }\n",
    "\n",
    "</style>\n",
    "\n",
    "\n",
    "<div style=\"text-align: right; direction: rtl\">\n",
    "     جهت استخراج قوانین نیز مجموعه ایی از کلمات کلیدی را در نظر گرفتیم که عبارتند از:\n",
    "    <br>\n",
    "     ['قانون', 'قوانین', 'آیین نامه', 'آیین‌نامه', 'اساس نامه', 'اساس‌نامه']\n",
    "    <br>\n",
    "    پس از آن بررسی میشود که کدامیک از این موارد در POS وجود دارد.\n",
    "    <br>\n",
    "    پس از این گام توسط الگوریتمی که به دنبال حرف اضافه EZ میگردد، قوانین را استخراج میکند. بدین صورت که افزودن واژگان را تا جایی که EZ هست ادامه می‌دهد، کلمه بعد از EZ را نیز اضافه میکند. در صورتی که ویرگول یا \\\"و\\\" وجود داشته باشد، آن را نیز استخراج و اضافه میکند.<br>\n",
    "    لازم به ذکر است که هدف ابتدایی ما برای یافتن قوانین به شرح زیر بود:\n",
    "    <br>\n",
    "    ما لیستی از قوانین را استخراج نمودیم و سپس توسط bleu score و bert score به دنبال نزدیک ترین قانون به قانون متن گشتیم. اما به دلیل نقص لیست قوانین نتایج استخراج شده مطلوب نبوده و ما را از ادامه این مسیر منصرف نمود.\n",
    "    </div>\n",
    "</div>"
   ]
  },
  {
   "cell_type": "markdown",
   "metadata": {},
   "source": [
    "<div style=\"text-align: right\">\n",
    "    <h2>استخراج تاریخ</h2>\n",
    "</div>"
   ]
  },
  {
   "cell_type": "markdown",
   "metadata": {},
   "source": [
    "<style>\n",
    "    .right-align-list {\n",
    "      direction: rtl; \n",
    "      list-style-position: inside;\n",
    "      padding: 0;\n",
    "    }\n",
    "    \n",
    "    .right-align-list li {\n",
    "    text-align: right;\n",
    "    padding-right: 20px;\n",
    "    }\n",
    "\n",
    "</style>\n",
    "\n",
    "\n",
    "<div style=\"text-align: right; direction: rtl\">\n",
    "    جهت استخراج تاریخ دو گام را طی نمودیم چرا که با دو نوع متنی و عددی سر و کار داشتیم:\n",
    "    <br>\n",
    "    1: با کمک regex فرمت‌های عددی تاریخ را از متن استخراج نمودیم\n",
    "    <br>\n",
    "    2: با کمک کلمات کلیدی و چانک‌ها فرمت‌های متنی تاریخ را استخراج نمودیم\n",
    "    <br>\n",
    "    پس از یافتن تاریخ، همچون دو ویژگی دیگر، هر تاریخ را همراه با span بازگرداندیم.\n",
    "</div>"
   ]
  }
 ],
 "metadata": {
  "language_info": {
   "name": "python"
  }
 },
 "nbformat": 4,
 "nbformat_minor": 2
}
